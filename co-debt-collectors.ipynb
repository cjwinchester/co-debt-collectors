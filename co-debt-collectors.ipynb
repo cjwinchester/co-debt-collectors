{
 "cells": [
  {
   "cell_type": "markdown",
   "metadata": {},
   "source": [
    "# Colorado debt collector data\n",
    "\n",
    "The goal: Extract data tables from [this PDF](https://coag.gov/sites/default/files/contentuploads/cp/ConsumerCreditUnit/InternetReports/carreport_0.pdf) and load into pandas for some basic analysis."
   ]
  },
  {
   "cell_type": "code",
   "execution_count": 86,
   "metadata": {},
   "outputs": [],
   "source": [
    "from os import path\n",
    "\n",
    "import requests\n",
    "import pdfplumber\n",
    "import pandas as pd"
   ]
  },
  {
   "cell_type": "markdown",
   "metadata": {},
   "source": [
    "### If PDF isn't there, download it"
   ]
  },
  {
   "cell_type": "code",
   "execution_count": 15,
   "metadata": {},
   "outputs": [],
   "source": [
    "PDF_URL = 'https://coag.gov/sites/default/files/' \\\n",
    "          'contentuploads/cp/ConsumerCreditUnit/InternetReports/carreport_0.pdf'\n",
    "\n",
    "TARGET_PDF = 'collections.pdf' \n",
    "\n",
    "if not path.isfile(TARGET_PDF):\n",
    "    r = requests.get(PDF_URL)\n",
    "    \n",
    "    with open(TARGET_PDF, 'w') as f:\n",
    "        for block in r.iter_content(1024):\n",
    "            f.write(block)"
   ]
  },
  {
   "cell_type": "markdown",
   "metadata": {},
   "source": [
    "### Define dataframe columns and status codes"
   ]
  },
  {
   "cell_type": "code",
   "execution_count": 45,
   "metadata": {},
   "outputs": [],
   "source": [
    "cols = ['bizname', 'license_loc', 'instate_loc', 'mailing_loc',\n",
    "        'license_no', 'lic_date', 'status', 'cr_date', 'action']\n",
    "\n",
    "status_codes = {\n",
    "    'A': 'active',\n",
    "    'C': 'cancelled',\n",
    "    'D': 'denied',\n",
    "    'E': 'expired',\n",
    "    'R': 'revoked'\n",
    "}"
   ]
  },
  {
   "cell_type": "markdown",
   "metadata": {},
   "source": [
    "### Extraction function\n",
    "A function that takes a `pdfplumber.Page` object and returns a dataframe of data extracted from the table on that page."
   ]
  },
  {
   "cell_type": "code",
   "execution_count": 17,
   "metadata": {},
   "outputs": [],
   "source": [
    "def page_to_df(page):\n",
    "    table = page.extract_tables()\n",
    "    lines = table[0][1:]\n",
    "    return pd.DataFrame(lines, columns=cols)"
   ]
  },
  {
   "cell_type": "markdown",
   "metadata": {},
   "source": [
    "### Build the dataframe"
   ]
  },
  {
   "cell_type": "code",
   "execution_count": 37,
   "metadata": {},
   "outputs": [],
   "source": [
    "# create an empty dataframe\n",
    "df = pd.DataFrame(columns=cols)\n",
    "\n",
    "# open the PDF\n",
    "with pdfplumber.open(TARGET_PDF) as pdf:\n",
    "    \n",
    "    # skip the first page, which doesn't have a data table\n",
    "    pages_with_data = pdf.pages[1:]\n",
    "    \n",
    "    # loop over the pages with data\n",
    "    for page in pages_with_data:\n",
    "        \n",
    "        # call the extraction function on the page and append the result to our dataframe\n",
    "        df = df.append(page_to_df(page), ignore_index=True)"
   ]
  },
  {
   "cell_type": "code",
   "execution_count": 82,
   "metadata": {},
   "outputs": [],
   "source": [
    "# kill line breaks\n",
    "df.replace('\\n', ' ', inplace=True, regex=True)"
   ]
  },
  {
   "cell_type": "code",
   "execution_count": 84,
   "metadata": {},
   "outputs": [],
   "source": [
    "# coerce license date col to datetime and sort descending\n",
    "df.lic_date = pd.to_datetime(df.lic_date)\n",
    "df = df.sort_values('lic_date', ascending=False)"
   ]
  },
  {
   "cell_type": "code",
   "execution_count": 68,
   "metadata": {},
   "outputs": [
    {
     "data": {
      "text/html": [
       "<div>\n",
       "<style scoped>\n",
       "    .dataframe tbody tr th:only-of-type {\n",
       "        vertical-align: middle;\n",
       "    }\n",
       "\n",
       "    .dataframe tbody tr th {\n",
       "        vertical-align: top;\n",
       "    }\n",
       "\n",
       "    .dataframe thead th {\n",
       "        text-align: right;\n",
       "    }\n",
       "</style>\n",
       "<table border=\"1\" class=\"dataframe\">\n",
       "  <thead>\n",
       "    <tr style=\"text-align: right;\">\n",
       "      <th></th>\n",
       "      <th>bizname</th>\n",
       "      <th>license_loc</th>\n",
       "      <th>instate_loc</th>\n",
       "      <th>mailing_loc</th>\n",
       "      <th>license_no</th>\n",
       "      <th>lic_date</th>\n",
       "      <th>status</th>\n",
       "      <th>cr_date</th>\n",
       "      <th>action</th>\n",
       "    </tr>\n",
       "  </thead>\n",
       "  <tbody>\n",
       "    <tr>\n",
       "      <th>329</th>\n",
       "      <td>BROAD STREET ASSET  MANAGEMENT LLC</td>\n",
       "      <td>2098 W CHESTER PIKE STE 201 BROOMALL, PA 19008</td>\n",
       "      <td>80 GARDEN CTR BLDG 3, STE B BROOMFIELD, CO 80020</td>\n",
       "      <td>2098 W CHESTER PIKE STE  201 BROOMALL, PA 19008</td>\n",
       "      <td>993088</td>\n",
       "      <td>2017-10-13</td>\n",
       "      <td>A</td>\n",
       "      <td>Active</td>\n",
       "      <td></td>\n",
       "    </tr>\n",
       "    <tr>\n",
       "      <th>1142</th>\n",
       "      <td>HOME POINT FINANCIAL  CORPORATION</td>\n",
       "      <td>1194 OAK VALLEY DR STE 80 ANN ARBOR, MI 48108</td>\n",
       "      <td>3773 CHERRY CREEK DR N STE  575 OFFICE #39 DEN...</td>\n",
       "      <td>1194 OAK VALLEY DR STE 80 ANN ARBOR, MI 48108</td>\n",
       "      <td>993089</td>\n",
       "      <td>2017-10-13</td>\n",
       "      <td>A</td>\n",
       "      <td>Active</td>\n",
       "      <td></td>\n",
       "    </tr>\n",
       "    <tr>\n",
       "      <th>1088</th>\n",
       "      <td>GREAT LAKES PROCESSING  SERVICES LLC</td>\n",
       "      <td>1800 ELMWOOD AVE STE 2 BUFFALO, NY 14207</td>\n",
       "      <td>3025 S PARKER RD STE 705 AURORA, CO 80014</td>\n",
       "      <td>1800 ELMWOOD AVE STE 2 BUFFALO, NY 14207</td>\n",
       "      <td>993085</td>\n",
       "      <td>2017-10-11</td>\n",
       "      <td>A</td>\n",
       "      <td>Active</td>\n",
       "      <td></td>\n",
       "    </tr>\n",
       "    <tr>\n",
       "      <th>2086</th>\n",
       "      <td>SUTHERLAND MORTGAGE  SERVICES INC</td>\n",
       "      <td>5959 CORPORATE DR STE 3000 HOUSTON, TX 77036</td>\n",
       "      <td>1776 S JACKSON ST STE 900 DENVER, CO 80210</td>\n",
       "      <td>5959 CORPORATE DR STE  3000 HOUSTON, TX 77036</td>\n",
       "      <td>993086</td>\n",
       "      <td>2017-10-11</td>\n",
       "      <td>A</td>\n",
       "      <td>Active</td>\n",
       "      <td></td>\n",
       "    </tr>\n",
       "    <tr>\n",
       "      <th>575</th>\n",
       "      <td>COMMONWEALTH FINANCIAL  SYSTEMS INC</td>\n",
       "      <td>245 MAIN ST DICKSON CITY, PA 18519</td>\n",
       "      <td>80 GARCEN CTR BLDG B, STE3 BROOMFIELD, CO 80020</td>\n",
       "      <td>245 MAIN ST DICKSON CITY, PA 18519</td>\n",
       "      <td>993083</td>\n",
       "      <td>2017-10-10</td>\n",
       "      <td>A</td>\n",
       "      <td>Active</td>\n",
       "      <td>Yes</td>\n",
       "    </tr>\n",
       "  </tbody>\n",
       "</table>\n",
       "</div>"
      ],
      "text/plain": [
       "                                   bizname  \\\n",
       "329     BROAD STREET ASSET  MANAGEMENT LLC   \n",
       "1142     HOME POINT FINANCIAL  CORPORATION   \n",
       "1088  GREAT LAKES PROCESSING  SERVICES LLC   \n",
       "2086     SUTHERLAND MORTGAGE  SERVICES INC   \n",
       "575    COMMONWEALTH FINANCIAL  SYSTEMS INC   \n",
       "\n",
       "                                         license_loc  \\\n",
       "329   2098 W CHESTER PIKE STE 201 BROOMALL, PA 19008   \n",
       "1142   1194 OAK VALLEY DR STE 80 ANN ARBOR, MI 48108   \n",
       "1088        1800 ELMWOOD AVE STE 2 BUFFALO, NY 14207   \n",
       "2086    5959 CORPORATE DR STE 3000 HOUSTON, TX 77036   \n",
       "575               245 MAIN ST DICKSON CITY, PA 18519   \n",
       "\n",
       "                                            instate_loc  \\\n",
       "329    80 GARDEN CTR BLDG 3, STE B BROOMFIELD, CO 80020   \n",
       "1142  3773 CHERRY CREEK DR N STE  575 OFFICE #39 DEN...   \n",
       "1088          3025 S PARKER RD STE 705 AURORA, CO 80014   \n",
       "2086         1776 S JACKSON ST STE 900 DENVER, CO 80210   \n",
       "575     80 GARCEN CTR BLDG B, STE3 BROOMFIELD, CO 80020   \n",
       "\n",
       "                                          mailing_loc license_no   lic_date  \\\n",
       "329   2098 W CHESTER PIKE STE  201 BROOMALL, PA 19008     993088 2017-10-13   \n",
       "1142    1194 OAK VALLEY DR STE 80 ANN ARBOR, MI 48108     993089 2017-10-13   \n",
       "1088         1800 ELMWOOD AVE STE 2 BUFFALO, NY 14207     993085 2017-10-11   \n",
       "2086    5959 CORPORATE DR STE  3000 HOUSTON, TX 77036     993086 2017-10-11   \n",
       "575                245 MAIN ST DICKSON CITY, PA 18519     993083 2017-10-10   \n",
       "\n",
       "     status cr_date action  \n",
       "329       A  Active         \n",
       "1142      A  Active         \n",
       "1088      A  Active         \n",
       "2086      A  Active         \n",
       "575       A  Active    Yes  "
      ]
     },
     "execution_count": 68,
     "metadata": {},
     "output_type": "execute_result"
    }
   ],
   "source": [
    "df.head()"
   ]
  },
  {
   "cell_type": "code",
   "execution_count": 78,
   "metadata": {},
   "outputs": [],
   "source": [
    "record_count = len(df)"
   ]
  },
  {
   "cell_type": "markdown",
   "metadata": {},
   "source": [
    "### How much action?\n",
    "\n",
    "According to the Colorado Attorney General, the presence of \"Yes\" in the last column means that the company has been\n",
    "\n",
    ">subject to legal or administrative action by this office or the licensee entered into a voluntary settlement with this office. If the entry is \"yes,\" the licensee may have been subject to one or more letters of admonition, suspension of the license, a judgment or order against the licensee, or other action, including payments (fines, penalties, consumer refunds, or other monetary payments.) Additionally, \"yes\" may mean that the licensee's records include a voluntary settlement or stipulation with this office. If a licensee has been disciplined, it might still retain its license. Actions and settlements are matters of public record although research, copying, and mailing costs may apply. Contact this office for more information.\n",
    "\n",
    "What's that universe look like?"
   ]
  },
  {
   "cell_type": "code",
   "execution_count": 85,
   "metadata": {},
   "outputs": [
    {
     "name": "stdout",
     "output_type": "stream",
     "text": [
      "677 of 2,365\n",
      "28.63% of debt collectors licensed in Colorado have been subject to some form of legal or administrative action.\n"
     ]
    }
   ],
   "source": [
    "action = df[df.action == 'Yes']\n",
    "\n",
    "print(len(action), 'of', '{:,}'.format(record_count))\n",
    "print('{:.2f}% of debt collectors licensed in Colorado have been subject to some form of legal or administrative action.'.format((len(action) / record_count) * 100))"
   ]
  },
  {
   "cell_type": "code",
   "execution_count": null,
   "metadata": {},
   "outputs": [],
   "source": [
    "# tk: grouping by status code, analyze licenses by year, etc."
   ]
  }
 ],
 "metadata": {
  "kernelspec": {
   "display_name": "Python 3",
   "language": "python",
   "name": "python3"
  },
  "language_info": {
   "codemirror_mode": {
    "name": "ipython",
    "version": 3
   },
   "file_extension": ".py",
   "mimetype": "text/x-python",
   "name": "python",
   "nbconvert_exporter": "python",
   "pygments_lexer": "ipython3",
   "version": "3.6.2"
  }
 },
 "nbformat": 4,
 "nbformat_minor": 2
}
